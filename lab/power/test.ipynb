{
 "cells": [
  {
   "cell_type": "code",
   "execution_count": 1,
   "metadata": {},
   "outputs": [],
   "source": [
    "import socket\n",
    "\n",
    "def read_power_supply(ip_address, port):\n",
    "    try:\n",
    "        # Create a socket object\n",
    "        with socket.socket(socket.AF_INET, socket.SOCK_STREAM) as s:\n",
    "            # Connect to the power supply\n",
    "            s.connect((ip_address, port))\n",
    "            \n",
    "            # Send the query command\n",
    "            command = '[:SOURce]:READ?\\n'\n",
    "            s.sendall(command.encode())\n",
    "\n",
    "            # Receive the response from the power supply\n",
    "            response = s.recv(1024).decode().strip()\n",
    "            \n",
    "            # Print the response\n",
    "            print(f\"Response: {response}\")\n",
    "\n",
    "            # Optionally, you can parse the response if needed\n",
    "            # Example: response.split(',')\n",
    "            # This will give you a list of measurements\n",
    "\n",
    "    except Exception as e:\n",
    "        print(f\"An error occurred: {e}\")\n",
    "\n",
    "# Example usage\n",
    "ip_address = '192.168.50.169'  # Replace with your power supply's IP address\n",
    "port = 2268  # Replace with the appropriate port number\n",
    "read_power_supply(ip_address, port)\n"
   ]
  },
  {
   "cell_type": "code",
   "execution_count": null,
   "metadata": {},
   "outputs": [],
   "source": []
  },
  {
   "cell_type": "code",
   "execution_count": null,
   "metadata": {},
   "outputs": [],
   "source": [
    "import socket\n",
    "\n",
    "def read_power_supply(ip_address, port):\n",
    "    # 创建一个 socket 对象\n",
    "    with socket.socket(socket.AF_INET, socket.SOCK_STREAM) as s:\n",
    "        # 连接到电源供应器\n",
    "        s.connect((ip_address, port))\n",
    "\n",
    "\n",
    "\n",
    "\n",
    "        print(s)\n",
    "\n",
    "        # 发送查询命令\n",
    "        command = ':SYSTem:BEEPer:STATe?'\n",
    "        s.sendall(command.encode())\n",
    "        \n",
    "        # # 接收电源供应器的响应\n",
    "        # response = s.recv(300, )\n",
    "\n",
    "        client,addr = s.accept()\n",
    "        \n",
    "        # # 打印响应\n",
    "        # print(f\"响应: {response}\")\n",
    "\n",
    "\n",
    "\n",
    "# 示例用法\n",
    "ip_address = '192.168.50.169'  # 替换为你的电源供应器的 IP 地址\n",
    "port = 2268  # 替换为电源供应器的端口号\n",
    "read_power_supply(ip_address, port)\n"
   ]
  },
  {
   "cell_type": "code",
   "execution_count": null,
   "metadata": {},
   "outputs": [],
   "source": [
    "import socket\n",
    "\n",
    "HOST = '192.168.50.169'\n",
    "PORT = 2268\n",
    "\n",
    "s = socket.socket(socket.AF_INET, socket.SOCK_STREAM)\n",
    "s.connect((HOST, PORT))\n",
    "\n",
    "while True:\n",
    "    cmd = input(\"Please input msg:\").encode()\n",
    "    \n",
    "    s.send(cmd)\n",
    "    data = s.recv(1024)\n",
    "    print(data)"
   ]
  },
  {
   "cell_type": "code",
   "execution_count": null,
   "metadata": {},
   "outputs": [],
   "source": [
    "import socket\n",
    "\n",
    "server_ip = '192.168.50.169'\n",
    "server_port = 2268\n",
    "\n",
    "sock = socket.socket(socket.AF_INET, socket.SOCK_STREAM)\n",
    "sock.settimeout(5)  # 設置超時為5秒\n",
    "\n",
    "try:\n",
    "    sock.connect((server_ip, server_port))\n",
    "    \n",
    "    # command = ':OUTPut:PON 1'\n",
    "    command = 'MEAS:CURR?\\n'\n",
    "    sock.sendall(command.encode())\n",
    "    \n",
    "    try:\n",
    "        response = sock.recv(1024)\n",
    "        print('Received:', response.decode())\n",
    "    except socket.timeout:\n",
    "        print('Receive timed out')\n",
    "\n",
    "except socket.error as e:\n",
    "    print(f'Socket error: {e}')\n",
    "\n",
    "finally:\n",
    "    sock.close()\n"
   ]
  },
  {
   "cell_type": "code",
   "execution_count": 284,
   "metadata": {},
   "outputs": [
    {
     "name": "stdout",
     "output_type": "stream",
     "text": [
      "<socket.socket fd=1436, family=2, type=1, proto=0>\n",
      "<socket.socket fd=1436, family=2, type=1, proto=0, laddr=('192.168.50.96', 9396), raddr=('192.168.50.169', 2268)>\n",
      "send: *CLS\n",
      "\n",
      "send: *IDN?\n",
      "\n",
      "response: b'GWINSTEK,APS-7100,GEQ120257,01.10.20151016\\n'\n",
      "send: :meas:volt?;curr?\n",
      "\n",
      "response: b'+0.0000;+0.0000\\n'\n",
      "send: :OUTPut:PON 0\n",
      "\n"
     ]
    }
   ],
   "source": [
    "import socket\n",
    "\n",
    "def send_scpi_command(ip, port, command, timeout=4):\n",
    "    try:\n",
    "        # 創建一個 TCP/IP socket\n",
    "        with socket.socket(socket.AF_INET, socket.SOCK_STREAM) as sock:\n",
    "            sock.settimeout(timeout)\n",
    "\n",
    "            print(sock)\n",
    "            sock.connect((ip, port))\n",
    "            print(sock)\n",
    "\n",
    "            for cmd in command:\n",
    "                sock.send(cmd.encode())\n",
    "                print('send:', cmd)\n",
    "\n",
    "                try:\n",
    "                    if '?' in cmd:\n",
    "                        response = sock.recv(1024)\n",
    "                        print('response:',response)\n",
    "                except socket.error as e:\n",
    "                    print(f'Socket 錯誤: {e}')\n",
    "\n",
    "            sock.close()\n",
    "            # return response.decode()\n",
    "    except socket.error as e:\n",
    "        print(f'Socket 錯誤: {e}')\n",
    "        return None\n",
    "\n",
    "# 示例用法\n",
    "ip_address = '192.168.50.169'  # 儀器的 IP 地址\n",
    "port_number = 2268           # 儀器的端口號\n",
    "\n",
    "# scpi_command = '*IDN?\\n' # ok*idn?\n",
    "# scpi_command = '*TST?\\n'\n",
    "# scpi_command = '*CLS\\n' # ok\n",
    "# scpi_command = '*RST?\\n' \n",
    "\n",
    "commands = [\n",
    "    '*CLS\\n',\n",
    "    '*IDN?\\n',\n",
    "\n",
    "    # ':SYSTem:REBoot\\n',\n",
    "\n",
    "    # '*TRG\\n',\n",
    "\n",
    "    # ':meas:curr?\\n',\n",
    "    ':meas:volt?;curr?\\n',\n",
    "    \n",
    "    # ':INITiate:NAME\\n',\n",
    "    # ':INITiate\\n',\n",
    "    \n",
    "    # ':OUTPut:PON?\\n',\n",
    "    # ':OUTPut:PON 1\\n',\n",
    "    # ':OUTPut:STATe?\\n',\n",
    "\n",
    "\n",
    "\n",
    "    # ':OUTPut:PON 0\\n',\n",
    "    # 'MEASure:SCALar:FREQuency?\\n',\n",
    "    # ':OUTPut[:STATe]:TRIGgered?\\n',\n",
    "\n",
    "    \n",
    "\n",
    "]\n",
    "\n",
    "\n",
    "# scpi_command = '*IDN?\\n' \n",
    "# scpi_command = '*TST\\n' \n",
    "\n",
    "response = send_scpi_command(ip_address, port_number, commands)\n"
   ]
  },
  {
   "cell_type": "code",
   "execution_count": 258,
   "metadata": {},
   "outputs": [
    {
     "name": "stdout",
     "output_type": "stream",
     "text": [
      "connecting\n",
      "sending\n"
     ]
    }
   ],
   "source": [
    "import socket\n",
    "s = socket.socket()\n",
    "print(\"connecting\")\n",
    "s.connect((\"192.168.50.169\",2268))\n",
    "print(\"sending\")\n",
    "s.settimeout(2)\n",
    "# s.send(b\"*IDN?\\n\")\n",
    "s.send(b\"*CLS?\\n\")\n",
    "\n",
    "# print(s.recv(2048))\n",
    "\n",
    "s.close()"
   ]
  },
  {
   "cell_type": "code",
   "execution_count": null,
   "metadata": {},
   "outputs": [],
   "source": []
  },
  {
   "cell_type": "code",
   "execution_count": 29,
   "metadata": {},
   "outputs": [
    {
     "name": "stdout",
     "output_type": "stream",
     "text": [
      "b'+10\\n'\n",
      "+10\n",
      " <<\n",
      "+10 <<\n",
      "10.0\n"
     ]
    }
   ],
   "source": [
    "b = b'+10\\n'\n",
    "print(b)\n",
    "\n",
    "r = b.decode()\n",
    "print(r,'<<')\n",
    "\n",
    "print(r.strip(),'<<')\n",
    "\n",
    "\n",
    "print(float(r.strip()))\n",
    "\n"
   ]
  },
  {
   "cell_type": "code",
   "execution_count": 35,
   "metadata": {},
   "outputs": [
    {
     "data": {
      "text/plain": [
       "['10', '20']"
      ]
     },
     "execution_count": 35,
     "metadata": {},
     "output_type": "execute_result"
    }
   ],
   "source": [
    "def split_response(response, to_1d=True):\n",
    "    if isinstance(response, bytes):\n",
    "        response = response.decode()\n",
    "    response = response.strip() \n",
    "    \n",
    "    response = response.split(\";\")\n",
    "    response = [x.split(\",\") for x in response]\n",
    "\n",
    "    response_1d = []\n",
    "    for x in response:\n",
    "        response_1d.extend(x)\n",
    "    \n",
    "    if to_1d:\n",
    "        return response_1d\n",
    "    else:\n",
    "        return response\n",
    "    \n",
    "split_response(b'10,20,30;40,50;60\\n')\n",
    "split_response(b'10,20\\n')\n"
   ]
  }
 ],
 "metadata": {
  "kernelspec": {
   "display_name": "Python 3",
   "language": "python",
   "name": "python3"
  },
  "language_info": {
   "codemirror_mode": {
    "name": "ipython",
    "version": 3
   },
   "file_extension": ".py",
   "mimetype": "text/x-python",
   "name": "python",
   "nbconvert_exporter": "python",
   "pygments_lexer": "ipython3",
   "version": "3.11.7"
  }
 },
 "nbformat": 4,
 "nbformat_minor": 2
}
