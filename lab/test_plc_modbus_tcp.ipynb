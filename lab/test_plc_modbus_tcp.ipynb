{
 "cells": [
  {
   "cell_type": "code",
   "execution_count": 4,
   "metadata": {},
   "outputs": [
    {
     "name": "stdout",
     "output_type": "stream",
     "text": [
      "Write response:  WriteSingleCoilResponse(dev_id=1, transaction_id=2, address=18, count=0, bits=[False], registers=[], status=1)\n",
      "Written successfully\n",
      "Disconnected from PLC\n"
     ]
    }
   ],
   "source": [
    "from pymodbus.client import ModbusTcpClient as ModbusClient\n",
    "\n",
    "# 设置PLC的IP地址和端口（默认Modbus TCP端口为502）\n",
    "PLC_IP = '192.168.0.102'  # 替换为你PLC的实际IP地址\n",
    "PLC_PORT = 502            # 默认Modbus TCP端口\n",
    "\n",
    "# 创建Modbus TCP客户端\n",
    "client = ModbusClient(PLC_IP, port=PLC_PORT)\n",
    "# client.close()\n",
    "\n",
    "# 连接到PLC\n",
    "client.connect()\n",
    "\n",
    "\n",
    "# btn = 22\n",
    "\n",
    "'''\n",
    "輸出控制\n",
    "192.168.0.102\n",
    "coil\n",
    "17: ASR 單相選擇\n",
    "18: ASR OFF\n",
    "19: ASR 三相選擇\n",
    "20: 單相馬達輸出\n",
    "21: 三相馬達輸出\n",
    "22: 保留\n",
    "23: 馬達輸出 OFF\n",
    "\n",
    "1: ASR 單相接線完成\n",
    "3: ASR 三相接線完成\n",
    "\n",
    "\n",
    "'''\n",
    "\n",
    "\n",
    "btn = 18\n",
    "write_response = client.write_coil(btn, True)\n",
    "write_response = client.write_coil(btn, False)\n",
    "\n",
    "print(\"Write response: \", write_response)\n",
    "if not write_response.isError():\n",
    "    print(\"Written successfully\")\n",
    "else:\n",
    "    print(\"Failed to write register\")\n",
    "\n",
    "# disconnect from PLC\n",
    "client.close()\n",
    "print(\"Disconnected from PLC\")\n"
   ]
  },
  {
   "cell_type": "code",
   "execution_count": null,
   "metadata": {},
   "outputs": [
    {
     "name": "stdout",
     "output_type": "stream",
     "text": [
      "Write response:  WriteSingleRegisterResponse(dev_id=1, transaction_id=2, address=101, count=0, bits=[], registers=[22136], status=1)\n",
      "Written successfully\n",
      "Disconnected from PLC\n"
     ]
    }
   ],
   "source": [
    "from pymodbus.client import ModbusTcpClient as ModbusClient\n",
    "\n",
    "# 设置PLC的IP地址和端口（默认Modbus TCP端口为502）\n",
    "PLC_IP = '192.168.0.102'  # 替换为你PLC的实际IP地址\n",
    "PLC_PORT = 502            # 默认Modbus TCP端口\n",
    "\n",
    "# 创建Modbus TCP客户端\n",
    "client = ModbusClient(PLC_IP, port=PLC_PORT)\n",
    "\n",
    "# 连接到PLC\n",
    "client.connect()\n",
    "\n",
    "# write_response = client.write_register(12, 100)\n",
    "write_response = client.write_register(100, 0x1234)\n",
    "write_response = client.write_register(101, 0x5678)\n",
    "# write_response = client.write_register(100, 0x5a5a)\n",
    "# write_response = client.write_register(100, 0x5a5a)\n",
    "# write_response = client.write_register(100, 0x5a5a)\n",
    "\n",
    "# write_response = client.write_coil(btn, False)\n",
    "\n",
    "'''\n",
    "100 開始\n",
    "每個float 2個register(float32)\n",
    "\n",
    "\"V1\" \"I1\" \"P1\" \"S1\" \"Q1\" \"LAMBDA1\" \"PHI1\" \"FU1\" \"FI1\"\n",
    "9個float + 1 NONE\n",
    "\n",
    "0~9 : 第一電表 + 1 ne\n",
    "10~19 : 第二電表 + 1 none\n",
    "20~29 : 第三電表 + 1 none\n",
    "30~39 : 第四電表 + 1 none\n",
    "\n",
    "'''\n",
    "\n",
    "\n",
    "print(\"Write response: \", write_response)\n",
    "if not write_response.isError():\n",
    "    print(\"Written successfully\")\n",
    "else:\n",
    "    print(\"Failed to write register\")\n",
    "\n",
    "# disconnect from PLC\n",
    "client.close()\n",
    "print(\"Disconnected from PLC\")\n"
   ]
  },
  {
   "cell_type": "code",
   "execution_count": null,
   "metadata": {},
   "outputs": [],
   "source": []
  },
  {
   "cell_type": "code",
   "execution_count": null,
   "metadata": {},
   "outputs": [],
   "source": []
  },
  {
   "cell_type": "code",
   "execution_count": 149,
   "metadata": {},
   "outputs": [
    {
     "name": "stdout",
     "output_type": "stream",
     "text": [
      "[0, 17505, 52429, 16540]\n",
      "900.0\n",
      "4.900000095367432\n",
      "Disconnected from PLC\n"
     ]
    }
   ],
   "source": [
    "from pymodbus.client import ModbusTcpClient as ModbusClient\n",
    "\n",
    "# 设置PLC的IP地址和端口（默认Modbus TCP端口为502）\n",
    "PLC_IP = '192.168.0.101'  # 替换为你PLC的实际IP地址\n",
    "PLC_PORT = 502            # 默认Modbus TCP端口\n",
    "\n",
    "# 创建Modbus TCP客户端\n",
    "client = ModbusClient(PLC_IP, port=PLC_PORT, timeout=5)\n",
    "\n",
    "# 连接到PLC\n",
    "client.connect()\n",
    "\n",
    "response = client.read_holding_registers(0, count=4)\n",
    "# 0 1 is a float 32 , need to convert to float\n",
    "\n",
    "print(response.registers)\n",
    "\n",
    "# print the response\n",
    "# print(response.registers)\n",
    "\n",
    "import struct\n",
    "n = struct.unpack('f', struct.pack('HH', response.registers[0], response.registers[1]))[0]\n",
    "n2 = struct.unpack('f', struct.pack('HH', response.registers[2], response.registers[3]))[0]\n",
    "print(n)\n",
    "print(n2)\n",
    "\n",
    "# disconnect from PLC\n",
    "client.close()\n",
    "print(\"Disconnected from PLC\")\n"
   ]
  },
  {
   "cell_type": "code",
   "execution_count": 192,
   "metadata": {},
   "outputs": [
    {
     "name": "stdout",
     "output_type": "stream",
     "text": [
      "Write response:  WriteSingleRegisterResponse(dev_id=1, transaction_id=1, address=20, count=0, bits=[], registers=[0], status=1)\n",
      "Written successfully\n",
      "Disconnected from PLC\n"
     ]
    }
   ],
   "source": [
    "from pymodbus.client import ModbusTcpClient as ModbusClient\n",
    "\n",
    "# 设置PLC的IP地址和端口（默认Modbus TCP端口为502）\n",
    "PLC_IP = '192.168.0.101'  # 替换为你PLC的实际IP地址\n",
    "PLC_PORT = 502            # 默认Modbus TCP端口\n",
    "\n",
    "# 创建Modbus TCP客户端\n",
    "client = ModbusClient(PLC_IP, port=PLC_PORT)\n",
    "\n",
    "# 连接到PLC\n",
    "client.connect()\n",
    "\n",
    "# 附載\n",
    "write_response = client.write_register(20, 0) # 0-4000\n",
    "# write_response = client.write_register(101, 0x5678)\n",
    "\n",
    "\n",
    "print(\"Write response: \", write_response)\n",
    "if not write_response.isError():\n",
    "    print(\"Written successfully\")\n",
    "else:\n",
    "    print(\"Failed to write register\")\n",
    "\n",
    "# disconnect from PLC\n",
    "client.close()\n",
    "print(\"Disconnected from PLC\")\n"
   ]
  }
 ],
 "metadata": {
  "kernelspec": {
   "display_name": "Python 3",
   "language": "python",
   "name": "python3"
  },
  "language_info": {
   "codemirror_mode": {
    "name": "ipython",
    "version": 3
   },
   "file_extension": ".py",
   "mimetype": "text/x-python",
   "name": "python",
   "nbconvert_exporter": "python",
   "pygments_lexer": "ipython3",
   "version": "3.11.7"
  }
 },
 "nbformat": 4,
 "nbformat_minor": 2
}
