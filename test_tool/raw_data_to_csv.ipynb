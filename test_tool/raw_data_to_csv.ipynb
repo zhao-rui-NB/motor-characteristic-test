{
 "cells": [
  {
   "cell_type": "code",
   "execution_count": 13,
   "metadata": {},
   "outputs": [
    {
     "name": "stdout",
     "output_type": "stream",
     "text": [
      "../test_file\\motor_2025.json\n",
      "../test_file\\motor_20250120_010114 copy.json\n",
      "../test_file\\motor_20250120_160710.json\n",
      "../test_file\\motor_20250120_160710_ana.json\n",
      "../test_file\\motor_20250120_172009_open_circuit.json\n",
      "../test_file\\motor_20250120_174633_lock_rotor.json\n",
      "../test_file\\motor_20250120_182025_load_test.json\n",
      "../test_file\\motor_20250123_142700_separate_excitation_test.json\n",
      "../test_file\\motor_20250123_152247_frequency_drift_test.json\n",
      "../test_file\\old\\motor_parameter_20240921_231246.json\n",
      "../test_file\\old\\settings.json\n"
     ]
    }
   ],
   "source": [
    "\n",
    "import os \n",
    "\n",
    "paths = []\n",
    "# walk dir\n",
    "for root, dirs, files in os.walk(\"../test_file\"):\n",
    "    for file in files:\n",
    "        if file.endswith(\".json\"):\n",
    "            paths.append(os.path.join(root, file))\n",
    "\n",
    "for p in paths:\n",
    "    print(p)"
   ]
  },
  {
   "cell_type": "code",
   "execution_count": 56,
   "metadata": {},
   "outputs": [],
   "source": [
    "import csv\n",
    "import json\n",
    "def raw_data_to_csv(file_path):\n",
    "    with open(file_path, 'r') as f:\n",
    "        data = json.load(f)\n",
    "    \n",
    "    log = data['test_data_log']\n",
    "    \n",
    "    write_data = []\n",
    "    \n",
    "    for test_name in log.keys():\n",
    "        if len(log[test_name]) == 0:\n",
    "            continue\n",
    "        for row in log[test_name]:\n",
    "            raw_datas = row['raw_data']\n",
    "            for raw_data in raw_datas: # {device: {key: value}}\n",
    "                raw_data_dict = {}\n",
    "                for d in raw_data.values():\n",
    "                    raw_data_dict.update(d)\n",
    "                write_data.append(raw_data_dict)\n",
    "                    \n",
    "        with open(file_path.replace(\".json\", f\"_{test_name}.csv\"), 'w') as f:\n",
    "            writer = csv.writer(f, lineterminator='\\n')    \n",
    "            writer.writerow(write_data[0].keys())\n",
    "            for row in write_data:\n",
    "                writer.writerow(row.values())\n",
    "    \n",
    "\n",
    "file_paths = [\n",
    "    '../test_file/motor_20250120_160710_ana.json',\n",
    "    '../test_file/motor_20250120_172009_open_circuit.json',\n",
    "    '../test_file/motor_20250120_174633_lock_rotor.json',\n",
    "    '../test_file/motor_20250120_182025_load_test.json',\n",
    "    '../test_file/motor_20250123_142700_separate_excitation_test.json', \n",
    "    '../test_file/motor_20250123_152247_frequency_drift_test.json',\n",
    "]\n",
    "\n",
    "\n",
    "for file_path in file_paths:\n",
    "    raw_data_to_csv(file_path)\n",
    "    # break"
   ]
  }
 ],
 "metadata": {
  "kernelspec": {
   "display_name": "Python 3",
   "language": "python",
   "name": "python3"
  },
  "language_info": {
   "codemirror_mode": {
    "name": "ipython",
    "version": 3
   },
   "file_extension": ".py",
   "mimetype": "text/x-python",
   "name": "python",
   "nbconvert_exporter": "python",
   "pygments_lexer": "ipython3",
   "version": "3.11.7"
  }
 },
 "nbformat": 4,
 "nbformat_minor": 2
}
